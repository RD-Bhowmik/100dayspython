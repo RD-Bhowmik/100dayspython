{
 "cells": [
  {
   "cell_type": "markdown",
   "metadata": {},
   "source": [
    "variable types"
   ]
  },
  {
   "cell_type": "code",
   "execution_count": 1,
   "metadata": {},
   "outputs": [
    {
     "name": "stdout",
     "output_type": "stream",
     "text": [
      "1029\n",
      "string\n",
      "True\n",
      "10.29\n",
      "None\n",
      "1039.29\n",
      "type of x is <class 'int'>\n",
      "type of y is <class 'str'>\n",
      "type of b is <class 'bool'>\n",
      "type of c is <class 'float'>\n",
      "type of q is <class 'NoneType'>\n"
     ]
    }
   ],
   "source": [
    "x = 1029\n",
    "c = 10.29\n",
    "y = \"string\"\n",
    "b = True \n",
    "q = None\n",
    "\n",
    "print(x)\n",
    "print(y)\n",
    "print(b)\n",
    "print(c)\n",
    "print(q)\n",
    "print(x + c)\n",
    "\n",
    "print(\"type of x is\",type(x))\n",
    "\n",
    "print(\"type of y is\",type(y))\n",
    "\n",
    "print(\"type of b is\",type(b))\n",
    "\n",
    "print(\"type of c is\",type(c))\n",
    "\n",
    "print(\"type of q is\",type(q))"
   ]
  },
  {
   "cell_type": "markdown",
   "metadata": {},
   "source": [
    "list things\n"
   ]
  },
  {
   "cell_type": "code",
   "execution_count": 2,
   "metadata": {},
   "outputs": [
    {
     "name": "stdout",
     "output_type": "stream",
     "text": [
      "[45, 5665, 2323, [-2, -5, 6], ['apple', 'banana', 'cherry']]\n",
      "45\n",
      "2323\n",
      "6\n"
     ]
    }
   ],
   "source": [
    "list1 = [45,5665,2323,[-2,-5,6] ,[\"apple\",\"banana\",\"cherry\"]]\n",
    "\n",
    "print(list1)\n",
    "\n",
    "print(list1[0])\n",
    "\n",
    "print(list1[2])\n",
    "\n",
    "print(list1[3][2])"
   ]
  },
  {
   "cell_type": "markdown",
   "metadata": {},
   "source": [
    "tuple things"
   ]
  },
  {
   "cell_type": "code",
   "execution_count": 3,
   "metadata": {},
   "outputs": [
    {
     "name": "stdout",
     "output_type": "stream",
     "text": [
      "(('apple', 'banana', 'cherry'), ('orange', 'mango', 'pineapple'), ('cherry', 'apple', 'banana'))\n",
      "('apple', 'banana', 'cherry')\n"
     ]
    }
   ],
   "source": [
    "tuple1 = ((\"apple\",\"banana\",\"cherry\"), (\"orange\",\"mango\",\"pineapple\"), (\"cherry\",\"apple\",\"banana\"))\n",
    "\n",
    "print(tuple1)\n",
    "\n",
    "print(tuple1[0])\n",
    "\n"
   ]
  },
  {
   "cell_type": "markdown",
   "metadata": {},
   "source": [
    "dict things"
   ]
  },
  {
   "cell_type": "code",
   "execution_count": 5,
   "metadata": {},
   "outputs": [
    {
     "name": "stdout",
     "output_type": "stream",
     "text": [
      "{'brand': 'Ford', 'model': 'Mustang', 'year': 1964, 'learning': True}\n",
      "Ford\n",
      "1964\n",
      "True\n"
     ]
    }
   ],
   "source": [
    "dict1 = {\n",
    "    \"brand\": \"Ford\",\n",
    "    \"model\": \"Mustang\",\n",
    "    \"year\": 1964,\n",
    "    \"learning\": True\n",
    "}\n",
    "\n",
    "print(dict1)\n",
    "\n",
    "print(dict1[\"brand\"])\n",
    "\n",
    "print(dict1[\"year\"])\n",
    "\n",
    "print(dict1[\"learning\"])\n",
    "\n"
   ]
  },
  {
   "cell_type": "code",
   "execution_count": null,
   "metadata": {},
   "outputs": [],
   "source": []
  },
  {
   "cell_type": "code",
   "execution_count": null,
   "metadata": {},
   "outputs": [],
   "source": []
  }
 ],
 "metadata": {
  "kernelspec": {
   "display_name": "100dayspython",
   "language": "python",
   "name": "python3"
  },
  "language_info": {
   "codemirror_mode": {
    "name": "ipython",
    "version": 3
   },
   "file_extension": ".py",
   "mimetype": "text/x-python",
   "name": "python",
   "nbconvert_exporter": "python",
   "pygments_lexer": "ipython3",
   "version": "3.11.11"
  }
 },
 "nbformat": 4,
 "nbformat_minor": 2
}
