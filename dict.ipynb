{
 "cells": [
  {
   "cell_type": "code",
   "execution_count": 1,
   "metadata": {},
   "outputs": [
    {
     "name": "stdout",
     "output_type": "stream",
     "text": [
      "{'key1': 'value1', 'key2': 'value2'}\n"
     ]
    }
   ],
   "source": [
    "dict1 = {\"key1\":\"value1\",\"key2\":\"value2\"}\n",
    "\n",
    "print(dict1)"
   ]
  },
  {
   "cell_type": "code",
   "execution_count": 2,
   "metadata": {},
   "outputs": [
    {
     "data": {
      "text/plain": [
       "'value1'"
      ]
     },
     "execution_count": 2,
     "metadata": {},
     "output_type": "execute_result"
    }
   ],
   "source": [
    "dict1[\"key1\"]"
   ]
  },
  {
   "cell_type": "code",
   "execution_count": 4,
   "metadata": {},
   "outputs": [
    {
     "name": "stdout",
     "output_type": "stream",
     "text": [
      "kola\n",
      "jani na\n",
      "aro jani na\n"
     ]
    }
   ],
   "source": [
    "dict1 = {\"key1\":\"apple\",\"key2\":\"kola\",\"key3\":\"jani na\",\"key6\":\"aro jani na\"}\n",
    "\n",
    "print(dict1[\"key2\"])\n",
    "print(dict1[\"key3\"])\n",
    "print(dict1[\"key6\"])\n"
   ]
  },
  {
   "cell_type": "code",
   "execution_count": 6,
   "metadata": {},
   "outputs": [
    {
     "name": "stdout",
     "output_type": "stream",
     "text": [
      "kola\n",
      "[0, 1, 2, 3, 4]\n",
      "{'keyinside': 'something'}\n",
      "something\n"
     ]
    }
   ],
   "source": [
    "dict1 = {\"key1\":279799,\"key2\":\"kola\",\"key3\":[0,1,2,3,4],\"key6\":{\"keyinside\":\"something\"}}\n",
    "\n",
    "print(dict1[\"key2\"])\n",
    "print(dict1[\"key3\"])\n",
    "print(dict1[\"key6\"])\n",
    "print(dict1[\"key6\"][\"keyinside\"])"
   ]
  },
  {
   "cell_type": "code",
   "execution_count": 13,
   "metadata": {},
   "outputs": [
    {
     "name": "stdout",
     "output_type": "stream",
     "text": [
      "{'key1': 279799, 'key2': 'kola', 'key3': [0, 1, 2, 3, 4], 'key6': {'keyinside': 'something'}}\n",
      "6969\n",
      "{'key1': 6969, 'key2': 'kola', 'key3': [0, 1, 2, 3, 4], 'key6': {'keyinside': 'something'}, 'newkey': 'new value added'}\n",
      "kola\n",
      "[0, 1, 2, 3, 4]\n",
      "{'keyinside': 'something'}\n",
      "something\n"
     ]
    }
   ],
   "source": [
    "dict1 = {\"key1\":279799,\"key2\":\"kola\",\"key3\":[0,1,2,3,4],\"key6\":{\"keyinside\":\"something\"}}\n",
    "print(dict1)\n",
    "dict1[\"newkey\"] = \"new value added\"\n",
    "dict1[\"key1\"] = 6969  \n",
    "print(dict1[\"key1\"])\n",
    "print(dict1)\n",
    "print(dict1[\"key2\"])\n",
    "print(dict1[\"key3\"])\n",
    "print(dict1[\"key6\"])\n",
    "print(dict1[\"key6\"][\"keyinside\"])"
   ]
  },
  {
   "cell_type": "code",
   "execution_count": 18,
   "metadata": {},
   "outputs": [
    {
     "name": "stdout",
     "output_type": "stream",
     "text": [
      "lucifer john walker \n",
      "walker\n"
     ]
    }
   ],
   "source": [
    "a = \"lucifer john walker \"\n",
    "word = a.split()\n",
    "print(a)\n",
    "print(word[-1])"
   ]
  },
  {
   "cell_type": "code",
   "execution_count": null,
   "metadata": {},
   "outputs": [],
   "source": []
  }
 ],
 "metadata": {
  "kernelspec": {
   "display_name": "100dayspython",
   "language": "python",
   "name": "python3"
  },
  "language_info": {
   "codemirror_mode": {
    "name": "ipython",
    "version": 3
   },
   "file_extension": ".py",
   "mimetype": "text/x-python",
   "name": "python",
   "nbconvert_exporter": "python",
   "pygments_lexer": "ipython3",
   "version": "3.11.11"
  }
 },
 "nbformat": 4,
 "nbformat_minor": 2
}
