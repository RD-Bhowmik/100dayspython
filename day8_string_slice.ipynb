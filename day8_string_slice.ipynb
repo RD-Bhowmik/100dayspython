{
 "cells": [
  {
   "cell_type": "code",
   "execution_count": 4,
   "metadata": {},
   "outputs": [
    {
     "name": "stdout",
     "output_type": "stream",
     "text": [
      "mango  is a  5 letter words\n"
     ]
    }
   ],
   "source": [
    "a = \"mango\"\n",
    "x = len(a)\n",
    "\n",
    "print(a,\" is a \",x, \"letter words\")"
   ]
  },
  {
   "cell_type": "code",
   "execution_count": 17,
   "metadata": {},
   "outputs": [
    {
     "name": "stdout",
     "output_type": "stream",
     "text": [
      "first letter:  m\n",
      "second letter:  an\n",
      "third to last letter:  go\n",
      "reverse of the last two letters:  man\n",
      "reverse of the string:  ognam\n",
      "reverse of the string in steps of 2:  onm\n"
     ]
    }
   ],
   "source": [
    "a = \"mango\"\n",
    "\n",
    "print(\"first letter: \",a[0])\n",
    "print(\"second letter: \",a[1:3])\n",
    "print(\"third to last letter: \",a[3:])\n",
    "print(\"reverse of the last two letters: \",a[:-2])\n",
    "print(\"reverse of the string: \",a[::-1])\n",
    "print(\"reverse of the string in steps of 2: \",a[::-2])"
   ]
  },
  {
   "cell_type": "code",
   "execution_count": 18,
   "metadata": {},
   "outputs": [
    {
     "name": "stdout",
     "output_type": "stream",
     "text": [
      "m\n",
      "a\n",
      "n\n",
      "g\n",
      "o\n"
     ]
    }
   ],
   "source": [
    "a = \"mango\"\n",
    "for i in a:\n",
    "    print(i)\n"
   ]
  },
  {
   "cell_type": "code",
   "execution_count": null,
   "metadata": {},
   "outputs": [],
   "source": []
  },
  {
   "cell_type": "code",
   "execution_count": null,
   "metadata": {},
   "outputs": [],
   "source": []
  },
  {
   "cell_type": "code",
   "execution_count": null,
   "metadata": {},
   "outputs": [],
   "source": []
  },
  {
   "cell_type": "code",
   "execution_count": null,
   "metadata": {},
   "outputs": [],
   "source": []
  },
  {
   "cell_type": "code",
   "execution_count": null,
   "metadata": {},
   "outputs": [],
   "source": []
  }
 ],
 "metadata": {
  "kernelspec": {
   "display_name": "100dayspython",
   "language": "python",
   "name": "python3"
  },
  "language_info": {
   "codemirror_mode": {
    "name": "ipython",
    "version": 3
   },
   "file_extension": ".py",
   "mimetype": "text/x-python",
   "name": "python",
   "nbconvert_exporter": "python",
   "pygments_lexer": "ipython3",
   "version": "3.11.11"
  }
 },
 "nbformat": 4,
 "nbformat_minor": 2
}
