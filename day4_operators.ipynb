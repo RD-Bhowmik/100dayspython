{
 "cells": [
  {
   "cell_type": "markdown",
   "metadata": {},
   "source": [
    "OPERATORS"
   ]
  },
  {
   "cell_type": "code",
   "execution_count": 12,
   "metadata": {},
   "outputs": [
    {
     "name": "stdout",
     "output_type": "stream",
     "text": [
      "addition of 20398 and  92 is = 20490\n",
      "subtraction of 20398 and  92 is = 20306\n",
      "division of 20398 and  23 is = 886.8695652173913\n",
      "multiplication of 20398 and  232 is = 4732336\n",
      "modulus of 20398 and  23 is = 20\n",
      "exponent of 20398 and  23 is = 1319819410788383975476447226082233180999801454871495062778452401261182951452699871444068117294088192\n",
      "floor division of 20398 and  23 is = 886\n"
     ]
    }
   ],
   "source": [
    "a = 20398\n",
    "b = 92 \n",
    "c = 23 \n",
    "d = 232 \n",
    "print(\"addition of\", a ,\"and \",b, \"is =\", a+b)\n",
    "\n",
    "print(\"subtraction of\", a ,\"and \",b, \"is =\", a-b)\n",
    "\n",
    "print(\"division of\", a ,\"and \",c, \"is =\", a/c)\n",
    "\n",
    "print(\"multiplication of\", a ,\"and \",d, \"is =\", a*d) \n",
    "\n",
    "print(\"modulus of\", a ,\"and \",c, \"is =\", a%c)\n",
    "\n",
    "print(\"exponent of\", a ,\"and \",c, \"is =\", a**c)\n",
    "\n",
    "print(\"floor division of\", a ,\"and \",c, \"is =\", a//c)\n",
    " "
   ]
  },
  {
   "cell_type": "markdown",
   "metadata": {},
   "source": [
    "creating a calculator able for addition, subtraction, multiplication and division"
   ]
  },
  {
   "cell_type": "code",
   "execution_count": 21,
   "metadata": {},
   "outputs": [
    {
     "name": "stdout",
     "output_type": "stream",
     "text": [
      "Result of addition is : 353\n",
      "Result of subtraction is : -111\n",
      "Result of multiplication is : 28072\n",
      "Result of division is : 0.521551724137931\n",
      "Result of modulus is : 121\n",
      "Result of exponent is : 1607703337802633416105073664815019337694235285616341551553234294653954280066928245953921011015647775124029364740770156367082061569941500998780508086362002465297011400462552478100082198488501067292329137201688442300351836875552694814000054798704624006374687903385221429175758028809395146194731930736879777664859733367223522084643768445027102723867982998996652392530639284894527756133661842273488766177214820443263376088494548660379742155553278724724890295241680807707447218831548770241\n",
      "Result of floor division is : 0\n"
     ]
    }
   ],
   "source": [
    "class calculator:\n",
    "    def __init__(self,a,b):\n",
    "        self.a = a\n",
    "        self.b = b\n",
    "    def add(self):\n",
    "        return self.a + self.b\n",
    "    def subtract(self):\n",
    "        return self.a - self.b\n",
    "    def multi(self):\n",
    "        return self.a * self.b \n",
    "    def divide(self):\n",
    "        return self.a / self.b\n",
    "    def modulus(self):\n",
    "        return self.a % self.b\n",
    "    def exponent(self):\n",
    "        return self.a ** self.b\n",
    "    def floor_division(self):\n",
    "        return self.a // self.b\n",
    "\n",
    "\n",
    "if __name__ == \"__main__\":\n",
    "    a = int(input(\"Enter first number: \"))\n",
    "    b = int(input(\"Enter second number: \"))\n",
    "\n",
    "    calc = calculator(a, b)\n",
    "    print(\"Result of addition is :\", calc.add())\n",
    "    print(\"Result of subtraction is :\", calc.subtract())\n",
    "    print(\"Result of multiplication is :\", calc.multi())\n",
    "    print(\"Result of division is :\", calc.divide())\n",
    "    print(\"Result of modulus is :\", calc.modulus())\n",
    "    print(\"Result of exponent is :\", calc.exponent())\n",
    "    print(\"Result of floor division is :\", calc.floor_division())\n"
   ]
  },
  {
   "cell_type": "markdown",
   "metadata": {},
   "source": [
    "both way possible "
   ]
  },
  {
   "cell_type": "code",
   "execution_count": 24,
   "metadata": {},
   "outputs": [
    {
     "name": "stdout",
     "output_type": "stream",
     "text": [
      "addition of 23 and  23 is = 46\n",
      "subtraction of 23 and  23 is = 0\n",
      "multiplication of 23 and  23 is = 529\n",
      "division of 23 and  23 is = 1.0\n"
     ]
    }
   ],
   "source": [
    "def addition(a,b):\n",
    "    add = a+b \n",
    "    return add \n",
    "\n",
    "def subtraction(a,b):\n",
    "    sub = a-b \n",
    "    return sub \n",
    "\n",
    "def multiplication(a,b):\n",
    "    mul = a*b \n",
    "    return mul \n",
    "\n",
    "def division(a,b):\n",
    "    div = a/b \n",
    "    return div \n",
    "    \n",
    "a = 23\n",
    "b = 23\n",
    "\n",
    "print(\"addition of\", a ,\"and \",b, \"is =\", addition(a,b))\n",
    "print(\"subtraction of\", a ,\"and \",b, \"is =\", subtraction(a,b))\n",
    "print(\"multiplication of\", a ,\"and \",b, \"is =\", multiplication(a,b))\n",
    "print(\"division of\", a ,\"and \",b, \"is =\", division(a,b))\n",
    "\n"
   ]
  },
  {
   "cell_type": "code",
   "execution_count": null,
   "metadata": {},
   "outputs": [],
   "source": []
  },
  {
   "cell_type": "code",
   "execution_count": null,
   "metadata": {},
   "outputs": [],
   "source": []
  },
  {
   "cell_type": "code",
   "execution_count": null,
   "metadata": {},
   "outputs": [],
   "source": []
  },
  {
   "cell_type": "code",
   "execution_count": null,
   "metadata": {},
   "outputs": [],
   "source": []
  },
  {
   "cell_type": "code",
   "execution_count": null,
   "metadata": {},
   "outputs": [],
   "source": []
  }
 ],
 "metadata": {
  "kernelspec": {
   "display_name": "100dayspython",
   "language": "python",
   "name": "python3"
  },
  "language_info": {
   "codemirror_mode": {
    "name": "ipython",
    "version": 3
   },
   "file_extension": ".py",
   "mimetype": "text/x-python",
   "name": "python",
   "nbconvert_exporter": "python",
   "pygments_lexer": "ipython3",
   "version": "3.11.11"
  }
 },
 "nbformat": 4,
 "nbformat_minor": 2
}
