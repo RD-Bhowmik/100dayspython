{
 "cells": [
  {
   "cell_type": "code",
   "execution_count": null,
   "metadata": {},
   "outputs": [
    {
     "name": "stdout",
     "output_type": "stream",
     "text": [
      "33\n",
      "rono !!!!rono!! rono!!! checking \n",
      "RONO !!!!RONO!! RONO!!! CHECKING \n",
      "rono !!!!rono!! rono!!! checking \n",
      "rono !!!!rono!! rono!!! checking \n",
      "working !!!!working!! working!!! checking \n",
      "['rono', '!!!!rono!!', 'rono!!!', 'checking', '']\n",
      "3\n"
     ]
    }
   ],
   "source": [
    "a = \"rono !!!!rono!! rono!!! checking \"\n",
    "print(len(a))\n",
    "print(a)\n",
    "print(a.upper())\n",
    "print(a.lower())\n",
    "print(a.rstrip(\"!\"))\n",
    "print(a.replace(\"rono\",\"working\"))\n",
    "print(a.split(\" \"))\n",
    "print(a.count(\"rono\")) # koto bar rono ase in the string oita dey\n",
    "\n"
   ]
  },
  {
   "cell_type": "code",
   "execution_count": null,
   "metadata": {},
   "outputs": [
    {
     "name": "stdout",
     "output_type": "stream",
     "text": [
      "Intro to something\n"
     ]
    }
   ],
   "source": [
    "blodheading = \"intro tO soMething\" \n",
    "print(blodheading.capitalize()) # capitalize kore "
   ]
  },
  {
   "cell_type": "code",
   "execution_count": 66,
   "metadata": {},
   "outputs": [
    {
     "name": "stdout",
     "output_type": "stream",
     "text": [
      "26\n",
      "50\n",
      "True\n",
      "False\n",
      "Welcome To Something !!!!!\n",
      "True\n",
      "True\n",
      "11\n",
      "True\n",
      "False\n",
      "False\n"
     ]
    }
   ],
   "source": [
    "str1 = \"welcome to something !!!!!\"\n",
    "print(len(str1))\n",
    "print(len(str1.center(50)))   # centralize kore \n",
    "print(str1.endswith(\"!!!\")) # check if line ki diye sesh hoise \n",
    "print(str1.istitle())\n",
    "print(str1.title()) # capatilizing thik korar jonno \n",
    "\n",
    "print(str1.startswith(\"welcome\"))\n",
    "print(str1.endswith(\"to\" ,5, 10)) \n",
    "print(str1.find(\"something\")) # -1 paile means eta pay nai , but jdi pay taile oitar index diye dibe\n",
    "\n",
    "str1 = \"SmethingtoRemember\"\n",
    "print(str1.isalnum()) # checks j string ta aplabet diyei start and end hoise naki \n",
    "print(str1.islower()) #check the whole string lower case e ase naki \n",
    "print(str1.isupper()) #check the whole string upper case e ase naki\n",
    "\n",
    "\n"
   ]
  },
  {
   "cell_type": "code",
   "execution_count": 60,
   "metadata": {},
   "outputs": [
    {
     "name": "stdout",
     "output_type": "stream",
     "text": [
      "True\n"
     ]
    }
   ],
   "source": [
    "str1 = \"            \"\n",
    "print(str1.isspace()) # string e jdi white space thake , oita check kore"
   ]
  },
  {
   "cell_type": "code",
   "execution_count": null,
   "metadata": {},
   "outputs": [],
   "source": []
  }
 ],
 "metadata": {
  "kernelspec": {
   "display_name": "100dayspython",
   "language": "python",
   "name": "python3"
  },
  "language_info": {
   "codemirror_mode": {
    "name": "ipython",
    "version": 3
   },
   "file_extension": ".py",
   "mimetype": "text/x-python",
   "name": "python",
   "nbconvert_exporter": "python",
   "pygments_lexer": "ipython3",
   "version": "3.11.11"
  }
 },
 "nbformat": 4,
 "nbformat_minor": 2
}
