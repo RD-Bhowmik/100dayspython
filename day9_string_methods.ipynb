{
 "cells": [
  {
   "cell_type": "code",
   "execution_count": null,
   "metadata": {},
   "outputs": [
    {
     "name": "stdout",
     "output_type": "stream",
     "text": [
      "33\n",
      "rono !!!!rono!! rono!!! checking \n",
      "RONO !!!!RONO!! RONO!!! CHECKING \n",
      "rono !!!!rono!! rono!!! checking \n",
      "rono !!!!rono!! rono!!! checking \n",
      "working !!!!working!! working!!! checking \n",
      "['rono', '!!!!rono!!', 'rono!!!', 'checking', '']\n",
      "3\n"
     ]
    }
   ],
   "source": [
    "a = \"rono !!!!rono!! rono!!! checking \"\n",
    "print(len(a))\n",
    "print(a)\n",
    "print(a.upper())\n",
    "print(a.lower())\n",
    "print(a.rstrip(\"!\"))\n",
    "print(a.replace(\"rono\",\"working\"))\n",
    "print(a.split(\" \"))\n",
    "print(a.count(\"rono\")) # koto bar rono ase in the string oita dey\n",
    "\n"
   ]
  },
  {
   "cell_type": "code",
   "execution_count": null,
   "metadata": {},
   "outputs": [
    {
     "name": "stdout",
     "output_type": "stream",
     "text": [
      "Intro to something\n"
     ]
    }
   ],
   "source": [
    "blodheading = \"intro tO soMething\" \n",
    "print(blodheading.capitalize()) # capitalize kore "
   ]
  },
  {
   "cell_type": "code",
   "execution_count": 66,
   "metadata": {},
   "outputs": [
    {
     "name": "stdout",
     "output_type": "stream",
     "text": [
      "26\n",
      "50\n",
      "True\n",
      "False\n",
      "Welcome To Something !!!!!\n",
      "True\n",
      "True\n",
      "11\n",
      "True\n",
      "False\n",
      "False\n"
     ]
    }
   ],
   "source": [
    "str1 = \"welcome to something !!!!!\"\n",
    "print(len(str1))\n",
    "print(len(str1.center(50)))   # centralize kore \n",
    "print(str1.endswith(\"!!!\")) # check if line ki diye sesh hoise \n",
    "print(str1.istitle())\n",
    "print(str1.title()) # capatilizing thik korar jonno \n",
    "\n",
    "print(str1.startswith(\"welcome\"))\n",
    "print(str1.endswith(\"to\" ,5, 10)) \n",
    "print(str1.find(\"something\")) # -1 paile means eta pay nai , but jdi pay taile oitar index diye dibe\n",
    "\n",
    "str1 = \"SmethingtoRemember\"\n",
    "print(str1.isalnum()) # checks j string ta aplabet diyei start and end hoise naki \n",
    "print(str1.islower()) #check the whole string lower case e ase naki \n",
    "print(str1.isupper()) #check the whole string upper case e ase naki\n",
    "\n",
    "\n"
   ]
  },
  {
   "cell_type": "code",
   "execution_count": null,
   "metadata": {},
   "outputs": [
    {
     "name": "stdout",
     "output_type": "stream",
     "text": [
      "True\n"
     ]
    }
   ],
   "source": [
    "str1 = \"            \"\n",
    "print(str1.isspace()) # string e jdi white space thake , oita check kore"
   ]
  },
  {
   "cell_type": "markdown",
   "metadata": {},
   "source": [
    "Write a program that takes user input and prints the reversed string."
   ]
  },
  {
   "cell_type": "code",
   "execution_count": null,
   "metadata": {},
   "outputs": [
    {
     "name": "stdout",
     "output_type": "stream",
     "text": [
      "nuf si nohtyp\n"
     ]
    }
   ],
   "source": [
    "user = input(\"enter string\")\n",
    "print(user[::-1])\n"
   ]
  },
  {
   "cell_type": "markdown",
   "metadata": {},
   "source": [
    "Write a program to remove extra spaces from a given string.\n"
   ]
  },
  {
   "cell_type": "code",
   "execution_count": 74,
   "metadata": {},
   "outputs": [
    {
     "name": "stdout",
     "output_type": "stream",
     "text": [
      "Python is awesome!\n"
     ]
    }
   ],
   "source": [
    "input1 = \"  Python    is   awesome!   \"\n",
    "\n",
    "rm = input1.replace(\" \", \"\")\n",
    "rm = \" \".join(input1.split())\n",
    "print(rm)"
   ]
  },
  {
   "cell_type": "markdown",
   "metadata": {},
   "source": [
    "Take a user-input string and count the number of vowels & consonants."
   ]
  },
  {
   "cell_type": "code",
   "execution_count": 92,
   "metadata": {},
   "outputs": [
    {
     "name": "stdout",
     "output_type": "stream",
     "text": [
      "string enetered by user: its working \n",
      "vowel count = 3 \n",
      "consonent count = 9 \n",
      " vowels found : ['i', 'o', 'i']\n",
      " consonents found : ['t', 's', ' ', 'w', 'r', 'k', 'n', 'g', ' ']\n"
     ]
    }
   ],
   "source": [
    "a = input(\"enter string: \")\n",
    "print(f\"string enetered by user: {a}\")\n",
    "vowel_count = 0 \n",
    "store_vowel = []\n",
    "store_consonent = []\n",
    "consonent_count = 0\n",
    "for i in a:\n",
    "    if i in \"aeiouAEIOU\":\n",
    "        store_vowel.append(i)\n",
    "        vowel_count += 1\n",
    "        \n",
    "    else: \n",
    "        store_consonent.append(i)\n",
    "        consonent_count +=1 \n",
    "        \n",
    "print(f\"vowel count = {vowel_count} \\nconsonent count = {consonent_count} \")\n",
    "print(f\" vowels found : {store_vowel}\")\n",
    "print(f\" consonents found : {store_consonent}\")"
   ]
  },
  {
   "cell_type": "markdown",
   "metadata": {},
   "source": [
    "Convert a string so that every word starts with an uppercase letter."
   ]
  },
  {
   "cell_type": "code",
   "execution_count": 93,
   "metadata": {},
   "outputs": [
    {
     "name": "stdout",
     "output_type": "stream",
     "text": [
      "Hello World! This Is Python.\n"
     ]
    }
   ],
   "source": [
    "a = \"hello world! this is python.\"\n",
    "print(a.title())"
   ]
  },
  {
   "cell_type": "markdown",
   "metadata": {},
   "source": [
    "Write a program to check if a string is a palindrome (same forward & backward)."
   ]
  },
  {
   "cell_type": "code",
   "execution_count": 1,
   "metadata": {},
   "outputs": [
    {
     "name": "stdout",
     "output_type": "stream",
     "text": [
      "user input: \n",
      "palindrome\n",
      "user input: madam\n",
      "palindrome\n",
      "user input: racecar\n",
      "palindrome\n",
      "user input: check\n",
      "not palindrome\n",
      "user input: checker\n",
      "not palindrome\n",
      "user input: something\n",
      "not palindrome\n",
      "user input: check\n",
      "not palindrome\n",
      "user input: check\n",
      "not palindrome\n",
      "user input: q\n"
     ]
    }
   ],
   "source": [
    "while True: \n",
    "    a = input(\"enter to check palindrome: \")\n",
    "    print(f\"user input: {a}\")\n",
    "    \n",
    "    if a == \"q\":\n",
    "        break\n",
    "    elif a == a[::-1]:\n",
    "        print(\"palindrome\")\n",
    "    \n",
    "    else: \n",
    "        print(\"not palindrome\")\n",
    "    "
   ]
  },
  {
   "cell_type": "markdown",
   "metadata": {},
   "source": [
    "Given a string, replace all numbers with the # symbol."
   ]
  },
  {
   "cell_type": "code",
   "execution_count": 8,
   "metadata": {},
   "outputs": [
    {
     "name": "stdout",
     "output_type": "stream",
     "text": [
      "Python $$.$$$$ is awesome! I have $$ monsters. and they are  $$$$$$% cute\n"
     ]
    }
   ],
   "source": [
    "string1 = \"Python 3.11 is awesome! I have 2 monsters. and they are  100% cute\"\n",
    "\n",
    "check = \"\".join(\"$$\" if char.isdigit() else char for char in string1)\n",
    "print(check) \n",
    "    "
   ]
  },
  {
   "cell_type": "markdown",
   "metadata": {},
   "source": [
    "Take an input string and extract only the numbers."
   ]
  },
  {
   "cell_type": "code",
   "execution_count": 14,
   "metadata": {},
   "outputs": [
    {
     "name": "stdout",
     "output_type": "stream",
     "text": [
      "user input: working1 and323 and 232  k23\n",
      "1\n",
      "13\n",
      "132\n",
      "1323\n",
      "13232\n",
      "132323\n",
      "1323232\n",
      "13232322\n",
      "132323223\n",
      "result: 132323223\n"
     ]
    }
   ],
   "source": [
    "user = input(\"enter string: \")\n",
    "print(f\"user input: {user}\")\n",
    "digit = \"\" \n",
    "for char in user: \n",
    "    if char.isdigit():\n",
    "        digit += char\n",
    "        print(digit)\n",
    "print(f\"result: {digit}\")"
   ]
  },
  {
   "cell_type": "markdown",
   "metadata": {},
   "source": [
    "Find the longest word in a given string."
   ]
  },
  {
   "cell_type": "code",
   "execution_count": 26,
   "metadata": {},
   "outputs": [
    {
     "name": "stdout",
     "output_type": "stream",
     "text": [
      "user input: Find the longest word in a given string\n",
      "user input length: 39\n",
      " words ['Find', 'the', 'longest', 'word', 'in', 'a', 'given', 'string']\n",
      "word: Find, length: 4\n",
      "word: the, length: 3\n",
      "word: longest, length: 7\n",
      "word: word, length: 4\n",
      "word: in, length: 2\n",
      "word: a, length: 1\n",
      "word: given, length: 5\n",
      "word: string, length: 6\n",
      "longest word: longest\n"
     ]
    }
   ],
   "source": [
    "user = input(\"enter string: \")\n",
    "print(f\"user input: {user}\")\n",
    "print(f\"user input length: {len(user)}\")\n",
    "words  = user.split()\n",
    "print(f\" words {words}\")\n",
    "\n",
    "\n",
    "long_word = max(words,key=len)\n",
    "\n",
    "for i in words: \n",
    "    print(f\"word: {i}, length: {len(i)}\")\n",
    "print(f\"longest word: {long_word}\")"
   ]
  },
  {
   "cell_type": "markdown",
   "metadata": {},
   "source": [
    "Count how many times each word appears in a given sentence"
   ]
  },
  {
   "cell_type": "code",
   "execution_count": null,
   "metadata": {},
   "outputs": [
    {
     "name": "stdout",
     "output_type": "stream",
     "text": [
      "word  present : {'apple': 3, 'banana': 2, 'orange': 1}\n"
     ]
    }
   ],
   "source": [
    "user = input(\"enter string : \")\n",
    "\n",
    "word = user.split() # split the string into words\n",
    "\n",
    "count = {} \n",
    "for i in word : \n",
    "    count[i] = count.get(i,0)+1 # check kore current word ta . jdi na pay taile 0 return kore . and increment kore 1 kore \n",
    "    \n",
    "print(f\"word  present : {count}\")"
   ]
  },
  {
   "cell_type": "markdown",
   "metadata": {},
   "source": [
    "Replace bad words in a sentence with ****"
   ]
  },
  {
   "cell_type": "code",
   "execution_count": 32,
   "metadata": {},
   "outputs": [
    {
     "name": "stdout",
     "output_type": "stream",
     "text": [
      "bad word replaced: you are  a ****** boy, work harder\n",
      "user entered: q\n"
     ]
    }
   ],
   "source": [
    "bad_words = [\"stupid\", \"dumb\"]\n",
    "\n",
    "while True: \n",
    "    user = input(\"enter bad words lol :3 : \")\n",
    "    if user == \"q\":\n",
    "        print(f\"user entered: {user}\")\n",
    "        break\n",
    "    for bad_word in bad_words: \n",
    "        user = user.replace(bad_word, \"*\" * len(bad_word))\n",
    "    print(f\"bad word replaced: {user}\")"
   ]
  }
 ],
 "metadata": {
  "kernelspec": {
   "display_name": "100dayspython",
   "language": "python",
   "name": "python3"
  },
  "language_info": {
   "codemirror_mode": {
    "name": "ipython",
    "version": 3
   },
   "file_extension": ".py",
   "mimetype": "text/x-python",
   "name": "python",
   "nbconvert_exporter": "python",
   "pygments_lexer": "ipython3",
   "version": "3.11.11"
  }
 },
 "nbformat": 4,
 "nbformat_minor": 2
}
